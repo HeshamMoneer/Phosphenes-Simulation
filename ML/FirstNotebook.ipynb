{
 "cells": [
  {
   "cell_type": "code",
   "execution_count": 16,
   "id": "92870f72",
   "metadata": {
    "scrolled": true
   },
   "outputs": [
    {
     "data": {
      "image/png": "[encoded data removed]",
      "text/plain": [
       "<Figure size 432x288 with 1 Axes>"
      ]
     },
     "metadata": {
      "needs_background": "light"
     },
     "output_type": "display_data"
    }
   ],
   "source": [
    "import numpy as np\n",
    "import matplotlib.pyplot as plt\n",
    "\n",
    "#recognition test\n",
    "#accuracy\n",
    "rta_dlr  = [62.5,25,50,0,0]\n",
    "rta_vjm  = [75,50,75,75,62.5]\n",
    "rta_vjc  = [75,62.5,100,87.5,100]\n",
    "rta_vjtd = [87.5,75,62.5,100,75]\n",
    "rta_vjer = [100,75,37.5,75,100]\n",
    "rta_vjhe = [87.5,62.5,50,75,75]\n",
    "\n",
    "#response time\n",
    "rtt_dlr  = [3.5,3.4,4.1,7,3.5]\n",
    "rtt_vjm  = [3.1,5.1,7,4.1,4.1]\n",
    "rtt_vjc  = [5.5,5.8,2.87,4.1,5.1]\n",
    "rtt_vjtd = [3.1,3.3,3.3,1.8,3.1]\n",
    "rtt_vjer = [2.5,7.4,9,3.6,3.6]\n",
    "rtt_vjhe = [1.1,3.4,4.3,3.1,2.6]\n",
    "\n",
    "#confidence\n",
    "rtc_dlr  = [4,2.25,2.63,0.6,0.75]\n",
    "rtc_vjm  = [4,2.3,3.25,3.25,3.25]\n",
    "rtc_vjc  = [4,3.87,4.87,4,3.8]\n",
    "rtc_vjtd = [4.5,4,2.6,5,3]\n",
    "rtc_vjer = [4.63,3.8,2.6,4.3,5]\n",
    "rtc_vjhe = [4.4,3,3.25,4,4]\n",
    "\n",
    "#talking test\n",
    "tt_dlr  = [50,100,0,75,75]\n",
    "tt_vjm  = [100,50,25,100,100]\n",
    "tt_vjc  = [0,50,75,75,100]\n",
    "tt_vjtd = [25,50,50,50,25]\n",
    "tt_vjer = [100,75,100,100,100]\n",
    "tt_vjhe = [75,75,50,75,25]\n",
    "\n",
    "#distinction test\n",
    "dt_dlr  = [42.8,28.7,14.3,57.1,0]\n",
    "dt_vjm  = [42.8,42.8,28.5,85.7,57.1]\n",
    "dt_vjc  = [71.4,57.1,85.7,42.8,42.8]\n",
    "dt_vjtd = [57.1,71.4,14.3,71.4,71.4]\n",
    "dt_vjer = [42.8,71.4,57.1,42.8,57.1]\n",
    "dt_vjhe = [71.4,42.8,28.6,28.6,28.6]\n",
    "\n",
    "\n",
    "\n",
    "dlr = np.array(dt_dlr)\n",
    "vm = np.array(dt_vjm)\n",
    "vc = np.array(dt_vjc)\n",
    "vt = np.array(dt_vjtd)\n",
    "ve = np.array(dt_vjer)\n",
    "vh = np.array(dt_vjhe)\n",
    "\n",
    "dlr_mean = np.mean(dlr)\n",
    "vm_mean = np.mean(vm)\n",
    "vc_mean = np.mean(vc)\n",
    "vt_mean = np.mean(vt)\n",
    "ve_mean = np.mean(ve)\n",
    "vh_mean = np.mean(vh)\n",
    "\n",
    "dlr_std = np.std(dlr)\n",
    "vm_std = np.std(vm)\n",
    "vc_std = np.std(vc)\n",
    "vt_std = np.std(vt)\n",
    "ve_std = np.std(ve)\n",
    "vh_std = np.std(vh)\n",
    "\n",
    "groups = ['DLR', 'VJm', 'VJc', 'VJtd', 'VJer', 'VJhe']\n",
    "x_pos = np.arange(len(groups))\n",
    "CTEs = [dlr_mean, vm_mean, vc_mean, vt_mean, ve_mean, vh_mean]\n",
    "error = [dlr_std, vm_std, vc_std, vt_std, ve_std, vh_std]\n",
    "\n",
    "fig, ax = plt.subplots()\n",
    "ax.bar(x_pos, CTEs, yerr=error, align='center', alpha=0.5, ecolor='black', capsize=5, color='green')\n",
    "ax.set_ylabel('Accuracy')\n",
    "ax.set_xticks(x_pos)\n",
    "ax.set_xticklabels(groups)\n",
    "ax.set_title('Distinction Test')\n",
    "\n",
    "# Save the figure and show\n",
    "plt.tight_layout()\n",
    "plt.savefig('bar_plot_with_error_bars.png')\n",
    "plt.show()"
   ]
  },
  {
   "cell_type": "code",
   "execution_count": 5,
   "id": "721bca3c",
   "metadata": {},
   "outputs": [
    {
     "data": {
      "image/png": "[encoded data removed]",
      "text/plain": [
       "<Figure size 432x288 with 1 Axes>"
      ]
     },
     "metadata": {
      "needs_background": "light"
     },
     "output_type": "display_data"
    }
   ],
   "source": [
    "import numpy as np\n",
    "import matplotlib.pyplot as plt\n",
    "\n",
    "#VR experiment cell\n",
    "\n",
    "#recognition test\n",
    "#accuracy\n",
    "rta_dlr  = [33.3,33.3,0,0,0]\n",
    "rta_vjm  = [66.6,33.3,100,83.3,83.3]\n",
    "rta_vjc  = [83.3,83.3,100,100,83.3]\n",
    "\n",
    "#response time\n",
    "rtt_dlr  = [4,7.3,10,8.8,10]\n",
    "rtt_vjm  = [4,8.3,2.3,3,2.8]\n",
    "rtt_vjc  = [4.1,4.3,2.6,3.2,4.6]\n",
    "\n",
    "#confidence\n",
    "rtc_dlr  = [2.6,1.8,0,0.3,0]\n",
    "rtc_vjm  = [4.3,3.3,4.8,4.2,4.8]\n",
    "rtc_vjc  = [4,4.1,4,4,3.5]\n",
    "\n",
    "#expressions test\n",
    "et_dlr  = [0,0,0,0,0]\n",
    "et_vjm  = [100,100,50,100,100]\n",
    "et_vjc  = [25,100,100,50,100]\n",
    "\n",
    "#distinction test\n",
    "dt_dlr  = [50,50,0,25,0]\n",
    "dt_vjm  = [100,75,100,25,75]\n",
    "dt_vjc  = [50,25,50,75,50]\n",
    "\n",
    "\n",
    "\n",
    "dlr = np.array(dt_dlr)\n",
    "vm = np.array(dt_vjm)\n",
    "vc = np.array(dt_vjc)\n",
    "\n",
    "dlr_mean = np.mean(dlr)\n",
    "vm_mean = np.mean(vm)\n",
    "vc_mean = np.mean(vc)\n",
    "\n",
    "dlr_std = np.std(dlr)\n",
    "vm_std = np.std(vm)\n",
    "vc_std = np.std(vc)\n",
    "\n",
    "groups = ['DLR', 'VJm', 'VJc']\n",
    "x_pos = np.arange(len(groups))\n",
    "CTEs = [dlr_mean, vm_mean, vc_mean]\n",
    "error = [dlr_std, vm_std, vc_std]\n",
    "\n",
    "fig, ax = plt.subplots()\n",
    "ax.bar(x_pos, CTEs, yerr=error, align='center', alpha=0.5, ecolor='black', capsize=5, color='yellow')\n",
    "ax.set_ylabel('Accuracy')\n",
    "ax.set_xticks(x_pos)\n",
    "ax.set_xticklabels(groups)\n",
    "ax.set_title('Distinction Test')\n",
    "\n",
    "# Save the figure and show\n",
    "plt.tight_layout()\n",
    "plt.savefig('bar_plot_with_error_bars.png')\n",
    "plt.show()"
   ]
  },
  {
   "cell_type": "code",
   "execution_count": null,
   "id": "732236e0",
   "metadata": {},
   "outputs": [],
   "source": []
  }
 ],
 "metadata": {
  "interpreter": {
   "hash": "88290479f8e92e7d3d56ae0b59c084045e999c6fc1801dc99b9b3e5c0fb2ea3f"
  },
  "kernelspec": {
   "display_name": "Python 3 (ipykernel)",
   "language": "python",
   "name": "python3"
  },
  "language_info": {
   "codemirror_mode": {
    "name": "ipython",
    "version": 3
   },
   "file_extension": ".py",
   "mimetype": "text/x-python",
   "name": "python",
   "nbconvert_exporter": "python",
   "pygments_lexer": "ipython3",
   "version": "3.9.7"
  }
 },
 "nbformat": 4,
 "nbformat_minor": 5
}
