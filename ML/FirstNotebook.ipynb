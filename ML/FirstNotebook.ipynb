{
 "cells": [
  {
   "cell_type": "code",
   "execution_count": 1,
   "id": "92870f72",
   "metadata": {
    "scrolled": true
   },
   "outputs": [
    {
     "data": {
      "image/png": "[encoded data removed]",
      "text/plain": [
       "<Figure size 432x288 with 1 Axes>"
      ]
     },
     "metadata": {
      "needs_background": "light"
     },
     "output_type": "display_data"
    }
   ],
   "source": [
    "import numpy as np\n",
    "import matplotlib.pyplot as plt\n",
    "\n",
    "dlr = np.array([0, 0.1, 0.2, 0.1, 0.2])\n",
    "vm = np.array([0.2, 0.5, 0.4, 0.6, 0.8])\n",
    "vc = np.array([0.2, 0.5, 0.4, 0.6, 0.8])\n",
    "vt = np.array([0.2, 0.5, 0.4, 0.6, 0.8])\n",
    "ve = np.array([0.2, 0.5, 0.4, 0.6, 0.8])\n",
    "vh = np.array([0.2, 0.5, 0.4, 0.6, 0.8])\n",
    "\n",
    "dlr_mean = np.mean(dlr)\n",
    "vm_mean = np.mean(vm)\n",
    "vc_mean = np.mean(vc)\n",
    "vt_mean = np.mean(vt)\n",
    "ve_mean = np.mean(ve)\n",
    "vh_mean = np.mean(vh)\n",
    "\n",
    "dlr_std = np.std(dlr)\n",
    "vm_std = np.std(vm)\n",
    "vc_std = np.std(vc)\n",
    "vt_std = np.std(vt)\n",
    "ve_std = np.std(ve)\n",
    "vh_std = np.std(vh)\n",
    "\n",
    "groups = ['DLR', 'VJm', 'VJc', 'VJtd', 'VJer', 'VJhe']\n",
    "x_pos = np.arange(len(groups))\n",
    "CTEs = [dlr_mean, vm_mean, vc_mean, vt_mean, ve_mean, vh_mean]\n",
    "error = [dlr_std, vm_std, vc_std, vt_std, ve_std, vh_std]\n",
    "\n",
    "fig, ax = plt.subplots()\n",
    "ax.bar(x_pos, CTEs, yerr=error, align='center', alpha=0.5, ecolor='black', capsize=10)\n",
    "ax.set_ylabel('Detection accuracy')\n",
    "ax.set_xticks(x_pos)\n",
    "ax.set_xticklabels(groups)\n",
    "ax.set_title('SPV subjects accuracy in face detection')\n",
    "ax.yaxis.grid(True)\n",
    "\n",
    "# Save the figure and show\n",
    "plt.tight_layout()\n",
    "plt.savefig('bar_plot_with_error_bars.png')\n",
    "plt.show()\n"
   ]
  },
  {
   "cell_type": "code",
   "execution_count": null,
   "id": "bb22546a",
   "metadata": {},
   "outputs": [],
   "source": []
  }
 ],
 "metadata": {
  "kernelspec": {
   "display_name": "Python 3 (ipykernel)",
   "language": "python",
   "name": "python3"
  },
  "language_info": {
   "codemirror_mode": {
    "name": "ipython",
    "version": 3
   },
   "file_extension": ".py",
   "mimetype": "text/x-python",
   "name": "python",
   "nbconvert_exporter": "python",
   "pygments_lexer": "ipython3",
   "version": "3.9.7"
  }
 },
 "nbformat": 4,
 "nbformat_minor": 5
}
